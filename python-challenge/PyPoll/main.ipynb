{
 "cells": [
  {
   "cell_type": "code",
   "execution_count": 1,
   "metadata": {},
   "outputs": [],
   "source": [
    "import os\n",
    "import csv"
   ]
  },
  {
   "cell_type": "code",
   "execution_count": 2,
   "metadata": {},
   "outputs": [
    {
     "name": "stdout",
     "output_type": "stream",
     "text": [
      "c:\\Users\\lanel\\OneDrive\\Desktop\\Data Analytics info\\University of Oregon\\UO-Data-Analysis-Bootcamp-Public\\Module 3\\Challange Files\\python-challenge\\PyPoll\\Resources\\election_data.csv\n"
     ]
    }
   ],
   "source": [
    "os.chdir(r\"c:\\Users\\lanel\\OneDrive\\Desktop\\Data Analytics info\\University of Oregon\\UO-Data-Analysis-Bootcamp-Public\\Module 3\\Challange Files\\python-challenge\\PyPoll\")\n",
    "\n",
    "current_directory = os.getcwd()\n",
    "\n",
    "csv_path = os.path.join(current_directory, 'Resources', 'election_data.csv')\n",
    "print(csv_path)"
   ]
  },
  {
   "cell_type": "code",
   "execution_count": 3,
   "metadata": {},
   "outputs": [],
   "source": [
    "with open(csv_path, 'r') as csvfile:\n",
    "\n",
    "    # CSV reader specifies delimiter and variable that holds contents\n",
    "    csvreader = list(csv.DictReader(csvfile, delimiter=','))\n",
    "\n",
    "    #following code inspired by https://learnpython.com/blog/read-csv-into-list-python/\n",
    "    # reads each column of the csv file to a list using List Comprehension\n",
    "    ballot = [int(row['Ballot ID']) for row in csvreader]\n",
    "    county = [str(row['County']) for row in csvreader]\n",
    "    name = [str(row['Candidate']) for row in csvreader]\n",
    "\n",
    "#create zipped list (result is a list of tuples)\n",
    "voting_zipped = list(zip(ballot, county, name))"
   ]
  },
  {
   "cell_type": "code",
   "execution_count": 4,
   "metadata": {},
   "outputs": [
    {
     "data": {
      "text/plain": [
       "369711"
      ]
     },
     "execution_count": 4,
     "metadata": {},
     "output_type": "execute_result"
    }
   ],
   "source": [
    "#get total amount of voters\n",
    "voter_amount = len(voting_zipped)\n",
    "voter_amount"
   ]
  },
  {
   "cell_type": "code",
   "execution_count": 5,
   "metadata": {},
   "outputs": [],
   "source": [
    "#get amount of votes each canidate recieved\n",
    "charles_total = [i for i in name if i == 'Charles Casper Stockham']\n",
    "diana_total = [i for i in name if i == 'Diana DeGette']\n",
    "raymon_total = [i for i in name if i == 'Raymon Anthony Doane']"
   ]
  },
  {
   "cell_type": "code",
   "execution_count": 6,
   "metadata": {},
   "outputs": [],
   "source": [
    "#get percentages\n",
    "charles_percentage = (len(charles_total)/voter_amount) * 100\n",
    "diana_percentage = (len(diana_total)/voter_amount) * 100\n",
    "raymon_percentage = (len(raymon_total)/voter_amount) * 100\n"
   ]
  },
  {
   "cell_type": "code",
   "execution_count": 7,
   "metadata": {},
   "outputs": [
    {
     "data": {
      "text/plain": [
       "'Diana DeGette'"
      ]
     },
     "execution_count": 7,
     "metadata": {},
     "output_type": "execute_result"
    }
   ],
   "source": [
    "#assign canidate with highest percentage of votes to variable\n",
    "voter_list = [charles_percentage, diana_percentage, raymon_percentage]\n",
    "voter_dict = {'Charles Casper Stockham':charles_percentage, 'Diana DeGette':diana_percentage, 'Raymon Anthony Doane':raymon_percentage}\n",
    "#code from https://www.geeksforgeeks.org/python-get-key-from-value-in-dictionary/\n",
    "highest_percentage = [i for i in voter_dict if voter_dict[i] == max(voter_list)]\n",
    "winner = highest_percentage[0]\n",
    "winner"
   ]
  },
  {
   "cell_type": "code",
   "execution_count": 8,
   "metadata": {},
   "outputs": [],
   "source": [
    "os.chdir(r\"c:\\Users\\lanel\\OneDrive\\Desktop\\Data Analytics info\\University of Oregon\\UO-Data-Analysis-Bootcamp-Public\\Module 3\\Challange Files\\python-challenge\\PyPoll\\Analysis\")\n",
    "\n",
    "with open('Election Results.txt', 'w') as writefile:\n",
    "    writefile.write(f\"Financial Analysis\\n\")\n",
    "    writefile.write(f\"-------------------------\\n\")\n",
    "    writefile.write(f\"Total Votes: {voter_amount}\\n\")\n",
    "    writefile.write(f\"-------------------------\\n\")\n",
    "    writefile.write(f\"Charles Casper Stockham: {charles_percentage}%\\n\")\n",
    "    writefile.write(f\"Diana DeGette: {diana_percentage}%\\n\")\n",
    "    writefile.write(f\"Raymon Anthony Doane: {raymon_percentage}%\\n\")\n",
    "    writefile.write(f\"-------------------------\\n\")\n",
    "    writefile.write(f\"Winner: {winner}\\n\")\n",
    "    writefile.write(f\"-------------------------\\n\")"
   ]
  }
 ],
 "metadata": {
  "kernelspec": {
   "display_name": "Bootcamp1",
   "language": "python",
   "name": "python3"
  },
  "language_info": {
   "codemirror_mode": {
    "name": "ipython",
    "version": 3
   },
   "file_extension": ".py",
   "mimetype": "text/x-python",
   "name": "python",
   "nbconvert_exporter": "python",
   "pygments_lexer": "ipython3",
   "version": "3.9.16"
  },
  "orig_nbformat": 4
 },
 "nbformat": 4,
 "nbformat_minor": 2
}
