{
 "cells": [
  {
   "cell_type": "code",
   "execution_count": 1,
   "metadata": {},
   "outputs": [],
   "source": [
    "import os\n",
    "import csv"
   ]
  },
  {
   "cell_type": "code",
   "execution_count": 2,
   "metadata": {},
   "outputs": [
    {
     "name": "stdout",
     "output_type": "stream",
     "text": [
      "c:\\Users\\lanel\\OneDrive\\Desktop\\Data Analytics info\\University of Oregon\\UO-Data-Analysis-Bootcamp-Public\\Module 3\\Challange Files\\python-challenge\\PyBank\\Resources\\budget_data.csv\n"
     ]
    }
   ],
   "source": [
    "os.chdir(r\"c:\\Users\\lanel\\OneDrive\\Desktop\\Data Analytics info\\University of Oregon\\UO-Data-Analysis-Bootcamp-Public\\Module 3\\Challange Files\\python-challenge\\PyBank\")\n",
    "\n",
    "current_directory = os.getcwd()\n",
    "\n",
    "csv_path = os.path.join(current_directory, 'Resources', 'budget_data.csv')\n",
    "print(csv_path)"
   ]
  },
  {
   "cell_type": "code",
   "execution_count": 3,
   "metadata": {},
   "outputs": [],
   "source": [
    "with open(csv_path, 'r') as csvfile:\n",
    "\n",
    "    # CSV reader specifies delimiter and variable that holds contents\n",
    "    csvreader = list(csv.DictReader(csvfile, delimiter=','))\n",
    "\n",
    "    #following code inspired by https://learnpython.com/blog/read-csv-into-list-python/\n",
    "    # reads each column of the csv file to a list using List Comprehension\n",
    "    dates = [str(row['Date']) for row in csvreader]\n",
    "    profits = [float(row['Profit/Losses']) for row in csvreader]"
   ]
  },
  {
   "cell_type": "code",
   "execution_count": 4,
   "metadata": {},
   "outputs": [],
   "source": [
    "#get Total Months\n",
    "months_total = len(dates)"
   ]
  },
  {
   "cell_type": "code",
   "execution_count": 5,
   "metadata": {},
   "outputs": [],
   "source": [
    "#net total amount of Profit/Losses\n",
    "net_profits = sum(profits)"
   ]
  },
  {
   "cell_type": "code",
   "execution_count": 6,
   "metadata": {},
   "outputs": [],
   "source": [
    "#find the differences between each item in profits and put each result into a list\n",
    "#see Images folder for a visual explination on how zip(profits[:-1], profits[1:]) works\n",
    "#code from https://stackoverflow.com/questions/2400840/python-finding-differences-between-elements-of-a-list\n",
    "profits_dif = [j-i for i, j in zip(profits[:-1], profits[1:])]"
   ]
  },
  {
   "cell_type": "code",
   "execution_count": 7,
   "metadata": {},
   "outputs": [],
   "source": [
    "#assign remaining variables based on profits_dif\n",
    "biggest_profit = max(profits_dif)\n",
    "biggest_loss = min(profits_dif)\n",
    "average_profit = sum(profits_dif)/len(profits_dif)"
   ]
  },
  {
   "cell_type": "code",
   "execution_count": 8,
   "metadata": {},
   "outputs": [],
   "source": [
    "#get months of biggest profit and biggest lost in profits by finding items in dates with matching index\n",
    "Max_index = profits_dif.index(max(profits_dif))\n",
    "Min_index = profits_dif.index(min(profits_dif))\n",
    "#profits_dif has 1 less item then dates, so +1 is used to ensure proper sync\n",
    "Max_date = dates[Max_index+1]\n",
    "Min_date = dates[Min_index+1]"
   ]
  },
  {
   "cell_type": "code",
   "execution_count": 9,
   "metadata": {},
   "outputs": [],
   "source": [
    "os.chdir(r\"c:\\Users\\lanel\\OneDrive\\Desktop\\Data Analytics info\\University of Oregon\\UO-Data-Analysis-Bootcamp-Public\\Module 3\\Challange Files\\python-challenge\\PyBank\\Analysis\")\n",
    "\n",
    "with open('Financial Analysis.txt', 'w') as writefile:\n",
    "    writefile.write(f\"Financial Analysis\\n\")\n",
    "    writefile.write(f\"-------------------------\\n\")\n",
    "    writefile.write(f\"Total Months: {months_total}\\n\")\n",
    "    writefile.write(f\"Total: ${net_profits}\\n\")\n",
    "    writefile.write(f\"Average Change: ${average_profit}\\n\")\n",
    "    writefile.write(f\"Greatest Increase in Profits: {Max_date} (${biggest_profit})\\n\")\n",
    "    writefile.write(f\"Greatest Decrease in Profits: {Min_date} (${biggest_loss})\\n\")"
   ]
  }
 ],
 "metadata": {
  "kernelspec": {
   "display_name": "Bootcamp1",
   "language": "python",
   "name": "python3"
  },
  "language_info": {
   "codemirror_mode": {
    "name": "ipython",
    "version": 3
   },
   "file_extension": ".py",
   "mimetype": "text/x-python",
   "name": "python",
   "nbconvert_exporter": "python",
   "pygments_lexer": "ipython3",
   "version": "3.9.16"
  },
  "orig_nbformat": 4
 },
 "nbformat": 4,
 "nbformat_minor": 2
}
